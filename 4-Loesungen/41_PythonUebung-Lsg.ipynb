{
 "cells": [
  {
   "cell_type": "markdown",
   "metadata": {},
   "source": [
    "# Musterlösung zu den Übungen zur Einführung in Python\n",
    "> Diese Übungen stammen aus [dem Think Python Lehrbuch](http://greenteapress.com/wp/think-python-2e)\n",
    ">\n",
    "> Diese Musterlösung stammt von Herrn Manuel Baotic mit Übersetzung sowie kleineren Ergänzungen bzw. Modifikationen des Dozenten. "
   ]
  },
  {
   "cell_type": "markdown",
   "metadata": {},
   "source": [
    "# Bearbeiten Sie die [Aufgaben zu Kapitel 1](http://greenteapress.com/thinkpython2/html/thinkpython2002.html#sec14)"
   ]
  },
  {
   "cell_type": "markdown",
   "metadata": {},
   "source": [
    "## Aufgabe 1"
   ]
  },
  {
   "cell_type": "markdown",
   "metadata": {},
   "source": [
    "### 1. Was passiert, wenn man in einem ```print```-Statement eine Klammer oder gar beide weglässt?"
   ]
  },
  {
   "cell_type": "code",
   "execution_count": 1,
   "metadata": {},
   "outputs": [
    {
     "ename": "SyntaxError",
     "evalue": "Missing parentheses in call to 'print'. Did you mean print(\"Hello\") # one missing parenthesis)? (<ipython-input-1-9eaea2773ec8>, line 1)",
     "output_type": "error",
     "traceback": [
      "\u001b[0;36m  File \u001b[0;32m\"<ipython-input-1-9eaea2773ec8>\"\u001b[0;36m, line \u001b[0;32m1\u001b[0m\n\u001b[0;31m    print \"Hello\") # one missing parenthesis\u001b[0m\n\u001b[0m                ^\u001b[0m\n\u001b[0;31mSyntaxError\u001b[0m\u001b[0;31m:\u001b[0m Missing parentheses in call to 'print'. Did you mean print(\"Hello\") # one missing parenthesis)?\n"
     ]
    }
   ],
   "source": [
    "print \"Hello\") # one missing parenthesis"
   ]
  },
  {
   "cell_type": "code",
   "execution_count": 2,
   "metadata": {},
   "outputs": [
    {
     "ename": "SyntaxError",
     "evalue": "Missing parentheses in call to 'print'. Did you mean print(\"Hello\" # without parentheses)? (<ipython-input-2-d49da8b66f79>, line 1)",
     "output_type": "error",
     "traceback": [
      "\u001b[0;36m  File \u001b[0;32m\"<ipython-input-2-d49da8b66f79>\"\u001b[0;36m, line \u001b[0;32m1\u001b[0m\n\u001b[0;31m    print \"Hello\" # without parentheses\u001b[0m\n\u001b[0m                ^\u001b[0m\n\u001b[0;31mSyntaxError\u001b[0m\u001b[0;31m:\u001b[0m Missing parentheses in call to 'print'. Did you mean print(\"Hello\" # without parentheses)?\n"
     ]
    }
   ],
   "source": [
    "print \"Hello\" # without parentheses"
   ]
  },
  {
   "cell_type": "markdown",
   "metadata": {},
   "source": [
    "### 2. Was passiert, wenn man in einem ```print```-Statement für eine Zeichenkette ein Anführungszeichen oder gar beide weglässt?"
   ]
  },
  {
   "cell_type": "code",
   "execution_count": 3,
   "metadata": {},
   "outputs": [
    {
     "ename": "SyntaxError",
     "evalue": "EOL while scanning string literal (<ipython-input-3-c8ee7026ef64>, line 1)",
     "output_type": "error",
     "traceback": [
      "\u001b[0;36m  File \u001b[0;32m\"<ipython-input-3-c8ee7026ef64>\"\u001b[0;36m, line \u001b[0;32m1\u001b[0m\n\u001b[0;31m    print(\"Hello) # missing quotation mark\u001b[0m\n\u001b[0m                                          ^\u001b[0m\n\u001b[0;31mSyntaxError\u001b[0m\u001b[0;31m:\u001b[0m EOL while scanning string literal\n"
     ]
    }
   ],
   "source": [
    "print(\"Hello) # missing quotation mark"
   ]
  },
  {
   "cell_type": "code",
   "execution_count": 4,
   "metadata": {},
   "outputs": [
    {
     "ename": "NameError",
     "evalue": "name 'Hello' is not defined",
     "output_type": "error",
     "traceback": [
      "\u001b[0;31m---------------------------------------------------------------------------\u001b[0m",
      "\u001b[0;31mNameError\u001b[0m                                 Traceback (most recent call last)",
      "\u001b[0;32m<ipython-input-4-f20cf81bd8fc>\u001b[0m in \u001b[0;36m<module>\u001b[0;34m()\u001b[0m\n\u001b[0;32m----> 1\u001b[0;31m \u001b[0mprint\u001b[0m\u001b[0;34m(\u001b[0m\u001b[0mHello\u001b[0m\u001b[0;34m)\u001b[0m \u001b[0;31m#without quotation marks\u001b[0m\u001b[0;34m\u001b[0m\u001b[0m\n\u001b[0m",
      "\u001b[0;31mNameError\u001b[0m: name 'Hello' is not defined"
     ]
    }
   ],
   "source": [
    "print(Hello) #without quotation marks"
   ]
  },
  {
   "cell_type": "markdown",
   "metadata": {},
   "source": [
    "### 3. Mit einem Minuszeichen kann man negative Zahlen wie -2 erzeugen. Was passiert, wenn man ein Pluszeichen vor eine Zahl setzt? Was ergibt 2++2?"
   ]
  },
  {
   "cell_type": "code",
   "execution_count": 5,
   "metadata": {},
   "outputs": [
    {
     "name": "stdout",
     "output_type": "stream",
     "text": [
      "2\n"
     ]
    },
    {
     "data": {
      "text/plain": [
       "4"
      ]
     },
     "execution_count": 5,
     "metadata": {},
     "output_type": "execute_result"
    }
   ],
   "source": [
    "print(+2)\n",
    "2++2"
   ]
  },
  {
   "cell_type": "markdown",
   "metadata": {},
   "source": [
    "### 4. In mathematischer Schreibweise sind führende Nullen erlaubt, wie etwa in 02. Was passiert, wenn man dies in Python macht?"
   ]
  },
  {
   "cell_type": "code",
   "execution_count": 6,
   "metadata": {},
   "outputs": [
    {
     "ename": "SyntaxError",
     "evalue": "invalid token (<ipython-input-6-8bbaebb36c4e>, line 1)",
     "output_type": "error",
     "traceback": [
      "\u001b[0;36m  File \u001b[0;32m\"<ipython-input-6-8bbaebb36c4e>\"\u001b[0;36m, line \u001b[0;32m1\u001b[0m\n\u001b[0;31m    02 ##0o für Octal und 0x für Hex-Format\u001b[0m\n\u001b[0m     ^\u001b[0m\n\u001b[0;31mSyntaxError\u001b[0m\u001b[0;31m:\u001b[0m invalid token\n"
     ]
    }
   ],
   "source": [
    "02 ##0o für Octal und 0x für Hex-Format"
   ]
  },
  {
   "cell_type": "markdown",
   "metadata": {},
   "source": [
    "### 5. Was passiert by zwei Operanden (Werten) ohne Operator dazwischen?"
   ]
  },
  {
   "cell_type": "code",
   "execution_count": 7,
   "metadata": {},
   "outputs": [
    {
     "ename": "SyntaxError",
     "evalue": "invalid syntax (<ipython-input-7-4142a0c1dd52>, line 1)",
     "output_type": "error",
     "traceback": [
      "\u001b[0;36m  File \u001b[0;32m\"<ipython-input-7-4142a0c1dd52>\"\u001b[0;36m, line \u001b[0;32m1\u001b[0m\n\u001b[0;31m    2 3\u001b[0m\n\u001b[0m      ^\u001b[0m\n\u001b[0;31mSyntaxError\u001b[0m\u001b[0;31m:\u001b[0m invalid syntax\n"
     ]
    }
   ],
   "source": [
    "2 3"
   ]
  },
  {
   "cell_type": "markdown",
   "metadata": {},
   "source": [
    "## Aufgabe 2"
   ]
  },
  {
   "cell_type": "markdown",
   "metadata": {},
   "source": [
    "### 1. Wie viele Sekunden sind 42 Minuten und 42 Sekunden?"
   ]
  },
  {
   "cell_type": "code",
   "execution_count": 8,
   "metadata": {},
   "outputs": [
    {
     "data": {
      "text/plain": [
       "2562"
      ]
     },
     "execution_count": 8,
     "metadata": {},
     "output_type": "execute_result"
    }
   ],
   "source": [
    "sec_per_min = 60\n",
    "seconds =(42*sec_per_min)+42\n",
    "seconds"
   ]
  },
  {
   "cell_type": "markdown",
   "metadata": {},
   "source": [
    "> ** Bemerkung **: Es ist sinnvoll, *Variablen* für diese Rechnungen zu benutzen. Schon bei solch einfachen Dingen lohnt es sich, mit *lesbarem* Code zu beginnen!"
   ]
  },
  {
   "cell_type": "markdown",
   "metadata": {},
   "source": [
    "### 2. Wie viele Meilen sind 10 Kilometer? \n",
    "*Hinweis*: Eine Meile sind 1.61 Kilometer."
   ]
  },
  {
   "cell_type": "code",
   "execution_count": 9,
   "metadata": {},
   "outputs": [
    {
     "data": {
      "text/plain": [
       "6.211180124223602"
      ]
     },
     "execution_count": 9,
     "metadata": {},
     "output_type": "execute_result"
    }
   ],
   "source": [
    "km_per_mil = 1.61\n",
    "miles = 10/km_per_mil\n",
    "miles"
   ]
  },
  {
   "cell_type": "markdown",
   "metadata": {},
   "source": [
    "### 3. Angenommen, man läuft 10 Kilometer in 42 Minuten und 42 Sekunden\n",
    "* Was ist dann das durchschnittliche Tempo (Zeit pro Meile in Minuten und Sekunden)?\n",
    "* Was ist die Durchschnittsgeschwindigkeit (in Meilen pro Stunde)?"
   ]
  },
  {
   "cell_type": "code",
   "execution_count": 10,
   "metadata": {},
   "outputs": [
    {
     "name": "stdout",
     "output_type": "stream",
     "text": [
      "Tempo (Minutenanteil): 6\n",
      "Tempo (Sekundenanteil): 52\n",
      "Durchschnittsgeschwindigkeit (Meilen pro Stunde): 8.73\n"
     ]
    }
   ],
   "source": [
    "pace_in_sec = seconds/miles\n",
    "pace_min = int(pace_in_sec // sec_per_min)\n",
    "pace_sec = int(pace_in_sec % sec_per_min)\n",
    "sec_per_hour = 3600\n",
    "avg_speed = round(sec_per_hour/pace_in_sec,2)\n",
    "print('Tempo (Minutenanteil):',pace_min)\n",
    "print('Tempo (Sekundenanteil):',pace_sec)\n",
    "print('Durchschnittsgeschwindigkeit (Meilen pro Stunde):',avg_speed)"
   ]
  },
  {
   "cell_type": "markdown",
   "metadata": {},
   "source": [
    "# Bearbeiten Sie die [Aufgaben zu Kapitel 2](http://greenteapress.com/thinkpython2/html/thinkpython2003.html#sec25)\n",
    "\n",
    "> Wie Allen B. Downey schon sagt: Wenn man ein neues Feature kennen lernt, dann sollte man es interaktiv ausprobieren und etwa auch mit Absicht Fehler machen, um zu sehen, was passiert!"
   ]
  },
  {
   "cell_type": "markdown",
   "metadata": {},
   "source": [
    "## Aufgabe 1"
   ]
  },
  {
   "cell_type": "markdown",
   "metadata": {},
   "source": [
    "### * Wir wissen, dass n = 42 erlaubt ist. WIe sieht es mit 42 = n aus?"
   ]
  },
  {
   "cell_type": "code",
   "execution_count": 11,
   "metadata": {},
   "outputs": [
    {
     "ename": "SyntaxError",
     "evalue": "can't assign to literal (<ipython-input-11-f0c37ed646fc>, line 1)",
     "output_type": "error",
     "traceback": [
      "\u001b[0;36m  File \u001b[0;32m\"<ipython-input-11-f0c37ed646fc>\"\u001b[0;36m, line \u001b[0;32m1\u001b[0m\n\u001b[0;31m    42 = n\u001b[0m\n\u001b[0m          ^\u001b[0m\n\u001b[0;31mSyntaxError\u001b[0m\u001b[0;31m:\u001b[0m can't assign to literal\n"
     ]
    }
   ],
   "source": [
    "42 = n"
   ]
  },
  {
   "cell_type": "markdown",
   "metadata": {},
   "source": [
    "### * Wie steht es mit x = y = 1?"
   ]
  },
  {
   "cell_type": "code",
   "execution_count": 12,
   "metadata": {},
   "outputs": [
    {
     "name": "stdout",
     "output_type": "stream",
     "text": [
      "x is 1 y is 1\n"
     ]
    }
   ],
   "source": [
    "x = y = 1\n",
    "print('x is',x,'y is',y)"
   ]
  },
  {
   "cell_type": "markdown",
   "metadata": {},
   "source": [
    "### * In manchen Programmiersprachen werden Statements mit einem Semikolon abgeschlossen. Was passiert, wenn man ein Semikolon ans Ende eines Python-Statements setzt?"
   ]
  },
  {
   "cell_type": "code",
   "execution_count": 13,
   "metadata": {},
   "outputs": [
    {
     "name": "stdout",
     "output_type": "stream",
     "text": [
      "Ergebnis: 2\n"
     ]
    }
   ],
   "source": [
    "statement = 2;\n",
    "print('Ergebnis:',statement); ## ist auch in Ordnung"
   ]
  },
  {
   "cell_type": "markdown",
   "metadata": {},
   "source": [
    "### * Wie verhält es sich mit einem Punkt am Ende eines Statements?"
   ]
  },
  {
   "cell_type": "code",
   "execution_count": 14,
   "metadata": {},
   "outputs": [
    {
     "data": {
      "text/plain": [
       "float"
      ]
     },
     "execution_count": 14,
     "metadata": {},
     "output_type": "execute_result"
    }
   ],
   "source": [
    "statement = 2.\n",
    "type(statement)"
   ]
  },
  {
   "cell_type": "code",
   "execution_count": 15,
   "metadata": {},
   "outputs": [
    {
     "ename": "SyntaxError",
     "evalue": "invalid syntax (<ipython-input-15-f699565eabdf>, line 1)",
     "output_type": "error",
     "traceback": [
      "\u001b[0;36m  File \u001b[0;32m\"<ipython-input-15-f699565eabdf>\"\u001b[0;36m, line \u001b[0;32m1\u001b[0m\n\u001b[0;31m    statement = statement + statement.\u001b[0m\n\u001b[0m                                      ^\u001b[0m\n\u001b[0;31mSyntaxError\u001b[0m\u001b[0;31m:\u001b[0m invalid syntax\n"
     ]
    }
   ],
   "source": [
    "statement = statement + statement."
   ]
  },
  {
   "cell_type": "markdown",
   "metadata": {},
   "source": [
    "*** Antwort: *** Es kommt darauf an ..."
   ]
  },
  {
   "cell_type": "markdown",
   "metadata": {},
   "source": [
    "### * In mathematischer Schreibweise bedeutet xy die Multiplikation von x und y. Was passiert, wenn man dies in Python versucht?"
   ]
  },
  {
   "cell_type": "code",
   "execution_count": 16,
   "metadata": {},
   "outputs": [
    {
     "ename": "SyntaxError",
     "evalue": "invalid syntax (<ipython-input-16-1c99bcb9e58d>, line 2)",
     "output_type": "error",
     "traceback": [
      "\u001b[0;36m  File \u001b[0;32m\"<ipython-input-16-1c99bcb9e58d>\"\u001b[0;36m, line \u001b[0;32m2\u001b[0m\n\u001b[0;31m    x y\u001b[0m\n\u001b[0m      ^\u001b[0m\n\u001b[0;31mSyntaxError\u001b[0m\u001b[0;31m:\u001b[0m invalid syntax\n"
     ]
    }
   ],
   "source": [
    "x = 2, y = 3\n",
    "x y"
   ]
  },
  {
   "cell_type": "markdown",
   "metadata": {},
   "source": [
    "## Aufgabe 2\n",
    "Der Python Interpreter als Taschenrechner"
   ]
  },
  {
   "cell_type": "markdown",
   "metadata": {},
   "source": [
    "### 1. Das Volumen einer Kugel mit Radius r ist $\\frac43 \\pi r^3$. Welches Volumen hat eine Kugel mit Radius 5?"
   ]
  },
  {
   "cell_type": "code",
   "execution_count": 17,
   "metadata": {
    "collapsed": true
   },
   "outputs": [],
   "source": [
    "import math ## import library\n",
    "\n",
    "def calc_volume(radius):\n",
    "    return 4/3*math.pi*radius**3"
   ]
  },
  {
   "cell_type": "code",
   "execution_count": 18,
   "metadata": {},
   "outputs": [
    {
     "name": "stdout",
     "output_type": "stream",
     "text": [
      "Das Volumen einer Kugel mit Radius 5 ist: 523.5987755982989\n"
     ]
    }
   ],
   "source": [
    "r = 5\n",
    "print('Das Volumen einer Kugel mit Radius',r,'ist:', calc_volume(r))"
   ]
  },
  {
   "cell_type": "markdown",
   "metadata": {},
   "source": [
    "### 2. Bücherkosten\n",
    "Angenommen, ein Exemplar eines Buches kostet 24.95€, aber ein Buchhändler bekommt 40$\\%$ Rabatt. Die Versandkosten belaufen sich auf 3€ für das erste Exemplar und 75 Cent für jedes weitere. Was kosten einen Buchhändler 60 Exemplare?"
   ]
  },
  {
   "cell_type": "code",
   "execution_count": 19,
   "metadata": {},
   "outputs": [
    {
     "name": "stdout",
     "output_type": "stream",
     "text": [
      "Bei einem Preis von 24.95 € zahlt ein Buchhändler für 60 Exemplare 945.45 €.\n"
     ]
    }
   ],
   "source": [
    "def cost(price,amount):\n",
    "    discount = .4\n",
    "    shipping_fix = 3\n",
    "    shipping_var = .75\n",
    "    cost = price*(1-discount)*amount+shipping_fix+(amount-1)*shipping_var    \n",
    "    return cost\n",
    "\n",
    "preis = 24.95\n",
    "menge = 60\n",
    "print('Bei einem Preis von',preis,'€ zahlt ein Buchhändler für',menge,'Exemplare',round(cost(amount = menge, price = preis),2),'€.')"
   ]
  },
  {
   "cell_type": "markdown",
   "metadata": {},
   "source": [
    "### 3. Ankunftszeit\n",
    "Ein Jogger verlässt sein Haus um 06:52 Uhr und läuft zunächst eine Meile gemütlich mit einem Tempo von 8:15 Minuten pro Meile, danach drei Meilen sportlich mit 7:12 Minuten pro Meile und zum Cool-Down wieder eine Meile gemütlich nach Hause. Wann kommt der Jogger zum Frühstück nach Hause (Uhrzeit in Minuten)?"
   ]
  },
  {
   "cell_type": "code",
   "execution_count": 20,
   "metadata": {},
   "outputs": [
    {
     "data": {
      "text/plain": [
       "(6, 52)"
      ]
     },
     "execution_count": 20,
     "metadata": {},
     "output_type": "execute_result"
    }
   ],
   "source": [
    "# Vorbetrachtung\n",
    "start = \"6:52\"\n",
    "hours = int(start[:start.find(':')])\n",
    "minutes = int(start[start.find(':')+1:])\n",
    "hours, minutes "
   ]
  },
  {
   "cell_type": "code",
   "execution_count": 21,
   "metadata": {},
   "outputs": [
    {
     "data": {
      "text/plain": [
       "(6, 52)"
      ]
     },
     "execution_count": 21,
     "metadata": {},
     "output_type": "execute_result"
    }
   ],
   "source": [
    "def extract_time(timestr):\n",
    "    \"\"\"Extraktion von Zeitelementen\"\"\"\n",
    "    first = int(timestr[:timestr.find(':')])\n",
    "    last = int(timestr[timestr.find(':')+1:])\n",
    "    return first, last\n",
    "\n",
    "start_hours,start_minutes = extract_time(start)\n",
    "start_hours, start_minutes"
   ]
  },
  {
   "cell_type": "code",
   "execution_count": 22,
   "metadata": {},
   "outputs": [
    {
     "name": "stdout",
     "output_type": "stream",
     "text": [
      "Der Jogger kommt um 7:30 nach Hause\n"
     ]
    }
   ],
   "source": [
    "def arrival_time(start, pace_slow, pace_fast, nmb_slow, nmb_fast):\n",
    "    min_per_hour = 60\n",
    "    start_hours,start_minutes = extract_time(start)\n",
    "    ## nmb_slow miles slow pace total minutes and seconds\n",
    "    min_slow,sec_slow = extract_time(pace_slow)\n",
    "    ## nmb_fast miles fast pace total minutes and seconds\n",
    "    min_fast,sec_fast = extract_time(pace_fast)\n",
    "#    min_fast = nmb_fast*(int(pace_fast[:pace_fast.find(':')]))\n",
    "#    sec_fast = nmb_fast*(int(pace_fast[pace_fast.find(':')+1:]))\n",
    "    ## minutes needed for the jog\n",
    "    jog_minutes = nmb_slow*min_slow + nmb_fast*min_fast \n",
    "    jog_minutes = jog_minutes + (nmb_slow*sec_slow + nmb_fast*sec_fast) // sec_per_min # !! schlecht !!\n",
    "    ## Uhrzeit\n",
    "    arrival_minutes = start_minutes + jog_minutes\n",
    "    arrival_hours = start_hours + arrival_minutes // min_per_hour\n",
    "    arrival_minutes = arrival_minutes % min_per_hour\n",
    "    return str(arrival_hours), str(arrival_minutes)\n",
    "\n",
    "result = arrival_time(\"6:52\",\"8:15\",\"7:12\",2,3)\n",
    "print('Der Jogger kommt um {0:s}:{1:s} nach Hause'.format(result[0],result[1]))"
   ]
  },
  {
   "cell_type": "markdown",
   "metadata": {},
   "source": [
    "*** ACHTUNG *** An der Stelle mit dem Kommentar *schlecht* wird auf eine **globale Variable** zurück gegriffen, die viel weiter oben in diesem Notebook in ganz anderem Zusammenhang mal definiert wurde! Das ist schlechter Programmierstil. Man sollte diese Konstante hier innerhalb der Funktion nochmal *lokal definieren* (wie ``min_per_hour``)!"
   ]
  },
  {
   "cell_type": "markdown",
   "metadata": {},
   "source": [
    "# Bearbeiten Sie die [Aufgaben zu Kapitel 3](http://greenteapress.com/thinkpython2/html/thinkpython2004.html#sec40)"
   ]
  },
  {
   "cell_type": "markdown",
   "metadata": {},
   "source": [
    "## 1. Rechtsbündige Ausgabe\n",
    "Schreiben Sie eine Funktion ``right_justify``, die einen String ``s`` als Parameter empfängt und diesen dann mit ausreichend vielen führenden Leerzeichen ausgibt, so dass das letzte Zeichen des Strings in Spalte 70 der Ausgabe landet."
   ]
  },
  {
   "cell_type": "code",
   "execution_count": 23,
   "metadata": {},
   "outputs": [
    {
     "name": "stdout",
     "output_type": "stream",
     "text": [
      "                                                                 Hello\n",
      "                                                                 World\n",
      "                                                            Here I am!\n"
     ]
    }
   ],
   "source": [
    "def right_justify(s):\n",
    "    print('{:>70}'.format(s)) ## {:>110} bedeutet letzter Buchstabe ist an Stelle 110 (Zeilenende)\n",
    "right_justify('Hello')\n",
    "right_justify('World')\n",
    "right_justify('Here I am!')"
   ]
  },
  {
   "cell_type": "markdown",
   "metadata": {},
   "source": [
    "Mehr zu formatierter Ausgabe findet man [hier](https://pyformat.info/)."
   ]
  },
  {
   "cell_type": "markdown",
   "metadata": {},
   "source": [
    "# 2. Funktionsobjekte\n",
    "Ein Funktionsobjekt kann einer Variablen als Wert zugewiesen oder als Argument einer Funktion übergeben werden. So ist ``do_twice`` beispielsweise eine Funktion, die ein Funktionsargument nimmt und die übergebene Funktion dann zweimal aufruft:\n",
    "\n",
    "```python\n",
    "def do_twice(f):\n",
    "    f()\n",
    "    f()\n",
    "```\n",
    "\n",
    "Im folgenden Beispiel benutzen wir ``do_twice``, um die Funktion ``print_spam`` zweimal aufzurufen:\n",
    "\n",
    "```python\n",
    "def print_spam():\n",
    "    print('spam')\n",
    "\n",
    "do_twice(print_spam)\n",
    "```\n",
    "\n",
    "1. Probieren Sie das vorgenannte Beispiel aus.\n",
    "2. Passen Sie ``do_twice`` so an, dass die Funktion zwei Argumente hat, ein Funktionsobjekt und einen Wert, und dann die übergebene Funktion zweimal aufruft, wobei der übergebene Wert der aufgerufenen Funktion übergeben wird.\n",
    "3. Verwenden Sie die Funktion ``print_twice``\n",
    "```python\n",
    "def print_twice(x):\n",
    "    print(x)\n",
    "    print(x)\n",
    "```\n",
    "4. Verwenden Sie die modifizierte Version von ``do_twice``, um ``print_twice`` mit dem Argument ``\"spam\"`` zweimal aufzurufen.\n",
    "5. Schreiben Sie eine neue Funktion namens ``do_four``, welche eine Funktionsobjekt und einen Wert als Argumente hat und dann die übergebene Funktion viermal aufruft. Dabei darf allerdings der Funktionskörper aus lediglich zwei Statements bestehten, nicht aus vier ..."
   ]
  },
  {
   "cell_type": "code",
   "execution_count": 24,
   "metadata": {},
   "outputs": [
    {
     "name": "stdout",
     "output_type": "stream",
     "text": [
      "spam\n",
      "spam\n"
     ]
    }
   ],
   "source": [
    "## 1.\n",
    "\n",
    "def do_twice(f):\n",
    "    f()\n",
    "    f()\n",
    "    \n",
    "def print_spam():\n",
    "    print('spam')\n",
    "    \n",
    "do_twice(print_spam)"
   ]
  },
  {
   "cell_type": "code",
   "execution_count": 25,
   "metadata": {},
   "outputs": [
    {
     "name": "stdout",
     "output_type": "stream",
     "text": [
      "spam\n",
      "spam\n",
      "spam\n",
      "spam\n"
     ]
    }
   ],
   "source": [
    "## 2. - 4.\n",
    "def do_twice(f,value):\n",
    "    f(value)\n",
    "    f(value)\n",
    "    \n",
    "def print_twice(x):\n",
    "    print(x)\n",
    "    print(x)\n",
    "    \n",
    "do_twice(print_twice,'spam')"
   ]
  },
  {
   "cell_type": "code",
   "execution_count": 26,
   "metadata": {},
   "outputs": [
    {
     "name": "stdout",
     "output_type": "stream",
     "text": [
      "spam\n",
      "spam\n",
      "spam\n",
      "spam\n",
      "spam\n",
      "spam\n",
      "spam\n",
      "spam\n"
     ]
    }
   ],
   "source": [
    "## 5.\n",
    "def do_four(f,value):\n",
    "    f(print_twice,value)\n",
    "    f(print_twice,value)\n",
    "\n",
    "do_four(do_twice,'spam')"
   ]
  },
  {
   "cell_type": "markdown",
   "metadata": {},
   "source": [
    "## 3. Raster ausgeben\n",
    "\n",
    "1. Schreiben Sie eine Funktion, die das folgende Raster ausgibt:\n",
    "\n",
    "`+ - - - - + - - - - +`<br>\n",
    "`|         |         |`<br>\n",
    "`|         |         |`<br>\n",
    "`|         |         |`<br>\n",
    "`|         |         |`<br>\n",
    "`+ - - - - + - - - - +`<br>\n",
    "`|         |         |`<br>\n",
    "`|         |         |`<br>\n",
    "`|         |         |`<br>\n",
    "`|         |         |`<br>\n",
    "`+ - - - - + - - - - +`<br>\n",
    "\n",
    "**Bedingung:** Verwenden Sie nur Anweisungen und Features, die wir schon kennen!\n",
    "\n",
    "*Hinweise:* \n",
    "1. Um mehr als einen Wert in einer Zeile auszugeben, kann man eine Folge von Werten durch Komma getrennt ausgeben, z.B.\n",
    "```python\n",
    "print('+', '-')\n",
    "```\n",
    "2. ``print`` erzeugt standardmäßig einen Zeilenumbruch. Man kann stattdessen aber beispielsweise auch ein Leerzeichen ans Ende setzen wie folgt:\n",
    "```python\n",
    "print('+', end=' ')\n",
    "print('-')\n",
    "```\n",
    "In beiden Fällen erhalen wir die Ausgabe ``+ -``. Eine ``print``-Anweisung ohne Argument führt ledigleich einen Zeilenumbruch durch."
   ]
  },
  {
   "cell_type": "code",
   "execution_count": 27,
   "metadata": {},
   "outputs": [
    {
     "name": "stdout",
     "output_type": "stream",
     "text": [
      "+ - - - - + - - - - +\n",
      "|         |         |\n",
      "|         |         |\n",
      "|         |         |\n",
      "|         |         |\n",
      "+ - - - - + - - - - +\n",
      "|         |         |\n",
      "|         |         |\n",
      "|         |         |\n",
      "|         |         |\n",
      "+ - - - - + - - - - +\n"
     ]
    }
   ],
   "source": [
    "def draw_grid():\n",
    "    arg1 = \"+ - - - - + - - - - +\"\n",
    "    arg2 = '{:>1}'.format('|')+'{:>10}'.format('|')+'{:>10}'.format('|')\n",
    "    print(arg1)\n",
    "    do_twice(print_twice,arg2)\n",
    "#    Alternative:\n",
    "#    for x in range(0,4):\n",
    "#        print(arg2)\n",
    "    print(arg1)\n",
    "    do_twice(print_twice,arg2)\n",
    "    print(arg1)\n",
    "draw_grid()   "
   ]
  },
  {
   "cell_type": "markdown",
   "metadata": {},
   "source": [
    "## 4. Kleineres Raster ausgeben \n",
    "Schreiben Sie eine Funktion, die ein ähnliches Raster mit vier mal vier \"Quadraten\" ausgibt."
   ]
  },
  {
   "cell_type": "code",
   "execution_count": 28,
   "metadata": {},
   "outputs": [
    {
     "name": "stdout",
     "output_type": "stream",
     "text": [
      "+ - - + - - + - - + - - +\n",
      "|     |     |     |     |\n",
      "|     |     |     |     |\n",
      "+ - - + - - + - - + - - +\n",
      "|     |     |     |     |\n",
      "|     |     |     |     |\n",
      "+ - - + - - + - - + - - +\n",
      "|     |     |     |     |\n",
      "|     |     |     |     |\n",
      "+ - - + - - + - - + - - +\n",
      "|     |     |     |     |\n",
      "|     |     |     |     |\n",
      "+ - - + - - + - - + - - +\n"
     ]
    }
   ],
   "source": [
    "def draw_smallgrid():\n",
    "    arg1 = \"+ - - + - - + - - + - - +\"\n",
    "    arg2 = '{:>1}'.format('|')+'{:>6}'.format('|')+'{:>6}'.format('|')+'{:>6}'.format('|')+'{:>6}'.format('|')\n",
    "    #print(arg1, end=' ')\n",
    "    for z in range(0,4):\n",
    "        print(arg1)\n",
    "        for x in range(0,2):\n",
    "            print(arg2)\n",
    "    print(arg1)\n",
    "draw_smallgrid()   "
   ]
  },
  {
   "cell_type": "markdown",
   "metadata": {},
   "source": [
    "Leider ist diese Lösung nicht ganz optimal, da wir Iterationen (Schleifen) ja noch nicht behandelt haben an dieser Stelle ..."
   ]
  },
  {
   "cell_type": "code",
   "execution_count": 29,
   "metadata": {},
   "outputs": [
    {
     "name": "stdout",
     "output_type": "stream",
     "text": [
      "+ - - + - - + - - + - - +\n",
      "|     |     |     |     |\n",
      "|     |     |     |     |\n",
      "+ - - + - - + - - + - - +\n",
      "|     |     |     |     |\n",
      "|     |     |     |     |\n",
      "+ - - + - - + - - + - - +\n",
      "|     |     |     |     |\n",
      "|     |     |     |     |\n",
      "+ - - + - - + - - + - - +\n",
      "|     |     |     |     |\n",
      "|     |     |     |     |\n",
      "+ - - + - - + - - + - - +\n"
     ]
    }
   ],
   "source": [
    "def one_line():\n",
    "    arg1 = \"+ - - + - - + - - + - - +\"\n",
    "    arg2 = '{:>1}'.format('|')+'{:>6}'.format('|')+'{:>6}'.format('|')+'{:>6}'.format('|')+'{:>6}'.format('|')\n",
    "    #print(arg1, end=' ')\n",
    "    print(arg1)\n",
    "    do_twice(print,arg2)\n",
    "    \n",
    "def draw_it():\n",
    "    arg1 = \"+ - - + - - + - - + - - +\"\n",
    "    one_line() \n",
    "    one_line() \n",
    "    one_line() \n",
    "    one_line() \n",
    "    print(arg1)\n",
    "\n",
    "draw_it() "
   ]
  },
  {
   "cell_type": "markdown",
   "metadata": {
    "collapsed": true
   },
   "source": [
    "Interessant ist auch die [Musterlösung](http://greenteapress.com/thinkpython2/code/grid.py) von Allen Downey für die Rasteraufgaben (insbesondere sein Kommentar zum Prozess der Programmierung)!"
   ]
  },
  {
   "cell_type": "code",
   "execution_count": null,
   "metadata": {
    "collapsed": true
   },
   "outputs": [],
   "source": []
  }
 ],
 "metadata": {
  "kernelspec": {
   "display_name": "Python 3",
   "language": "python",
   "name": "python3"
  },
  "language_info": {
   "codemirror_mode": {
    "name": "ipython",
    "version": 3
   },
   "file_extension": ".py",
   "mimetype": "text/x-python",
   "name": "python",
   "nbconvert_exporter": "python",
   "pygments_lexer": "ipython3",
   "version": "3.6.3"
  },
  "latex_envs": {
   "LaTeX_envs_menu_present": true,
   "autocomplete": true,
   "bibliofile": "biblio.bib",
   "cite_by": "apalike",
   "current_citInitial": 1,
   "eqLabelWithNumbers": true,
   "eqNumInitial": 1,
   "hotkeys": {
    "equation": "Ctrl-E",
    "itemize": "Ctrl-I"
   },
   "labels_anchors": false,
   "latex_user_defs": false,
   "report_style_numbering": false,
   "user_envs_cfg": false
  }
 },
 "nbformat": 4,
 "nbformat_minor": 2
}
