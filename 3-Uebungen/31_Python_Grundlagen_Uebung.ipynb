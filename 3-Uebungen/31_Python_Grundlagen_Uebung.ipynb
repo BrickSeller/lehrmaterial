{
 "cells": [
  {
   "cell_type": "markdown",
   "metadata": {},
   "source": [
    "# Übungen zur Einführung in Python\n",
    "> Diese Übungen stammen aus [dem Think Python Lehrbuch](http://greenteapress.com/wp/think-python-2e)\n",
    ">\n",
    "> **Zu Beachten:** *Die Aufgabenstellung gehört zur Lösung dazu!*"
   ]
  },
  {
   "cell_type": "markdown",
   "metadata": {},
   "source": [
    "# Bearbeiten Sie die [Aufgaben zu Kapitel 1](http://greenteapress.com/thinkpython2/html/thinkpython2002.html#sec14)"
   ]
  },
  {
   "cell_type": "code",
   "execution_count": null,
   "metadata": {
    "collapsed": true
   },
   "outputs": [],
   "source": []
  },
  {
   "cell_type": "markdown",
   "metadata": {},
   "source": [
    "# Bearbeiten Sie die [Aufgaben zu Kapitel 2](http://greenteapress.com/thinkpython2/html/thinkpython2003.html#sec25)\n",
    "\n",
    "> Wie Allen B. Downey schon sagt: Wenn man ein neues Feature kennen lernt, dann sollte man es interaktiv ausprobieren und etwa auch mit Absicht Fehler machen, um zu sehen, was passiert!"
   ]
  },
  {
   "cell_type": "code",
   "execution_count": null,
   "metadata": {
    "collapsed": true
   },
   "outputs": [],
   "source": []
  },
  {
   "cell_type": "markdown",
   "metadata": {},
   "source": [
    "# Bearbeiten Sie die [Aufgaben zu Kapitel 3](http://greenteapress.com/thinkpython2/html/thinkpython2004.html#sec40)"
   ]
  },
  {
   "cell_type": "code",
   "execution_count": null,
   "metadata": {
    "collapsed": true
   },
   "outputs": [],
   "source": []
  }
 ],
 "metadata": {
  "kernelspec": {
   "display_name": "Python 3",
   "language": "python",
   "name": "python3"
  },
  "language_info": {
   "codemirror_mode": {
    "name": "ipython",
    "version": 3
   },
   "file_extension": ".py",
   "mimetype": "text/x-python",
   "name": "python",
   "nbconvert_exporter": "python",
   "pygments_lexer": "ipython3",
   "version": "3.6.3"
  },
  "latex_envs": {
   "LaTeX_envs_menu_present": true,
   "autocomplete": true,
   "bibliofile": "biblio.bib",
   "cite_by": "apalike",
   "current_citInitial": 1,
   "eqLabelWithNumbers": true,
   "eqNumInitial": 1,
   "hotkeys": {
    "equation": "Ctrl-E",
    "itemize": "Ctrl-I"
   },
   "labels_anchors": false,
   "latex_user_defs": false,
   "report_style_numbering": false,
   "user_envs_cfg": false
  }
 },
 "nbformat": 4,
 "nbformat_minor": 2
}
